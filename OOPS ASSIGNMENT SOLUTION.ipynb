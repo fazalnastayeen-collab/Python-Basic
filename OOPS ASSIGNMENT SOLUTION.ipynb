{
 "cells": [
  {
   "cell_type": "markdown",
   "id": "2eb5555a",
   "metadata": {},
   "source": [
    "                                            THEORY ANSWER "
   ]
  },
  {
   "cell_type": "markdown",
   "id": "e6f3804c",
   "metadata": {},
   "source": [
    "1.What is object oreinted programming?\n",
    "Ans-OOPS or Object Oriented Programming system helps you to arrange different fuctions ina respective classes wwhich ease the task as well as save time."
   ]
  },
  {
   "cell_type": "markdown",
   "id": "dce678fb",
   "metadata": {},
   "source": [
    "2.What is class in OOPS?\n",
    "Ans-Classes are nothing but blueprint/template for creating classes, for example object for class human being."
   ]
  },
  {
   "cell_type": "markdown",
   "id": "d332f9fa",
   "metadata": {},
   "source": [
    "3.What is an object in OOPS?\n",
    "Ans-An object is a actual thing created from the class/blueprint which is self-contained and have properties and methods that operate on that data."
   ]
  },
  {
   "cell_type": "markdown",
   "id": "ffa49784",
   "metadata": {},
   "source": [
    "4.What is the difference between abstraction and encapsulation?\n",
    "Ans-Encapsulation means hiding something, bundling of data and methods of a class while\n",
    "Abstraction>>concept of hiding complex implementation, unneeded details and exposing the required. Abstract class can not be instantiated. Abstract class should always be subclassed.\n"
   ]
  },
  {
   "cell_type": "markdown",
   "id": "fd9b3973",
   "metadata": {},
   "source": [
    "5.What are dunder method in python?\n",
    "Ans-Dunder method is a special/magic method defined by built-in-classes in python. Classes define these type of method for creating custom object."
   ]
  },
  {
   "cell_type": "markdown",
   "id": "cb348e9a",
   "metadata": {},
   "source": [
    "6.Explain the concept of inheritance in OOP.\n",
    "Ans-When there is a parent class, there is a child class which receives the property of parent class.\n",
    "for example, class Father:\n",
    "                def property_of_father\n",
    "                print(\")\n",
    "            class child(Father):"
   ]
  },
  {
   "cell_type": "markdown",
   "id": "c4addac6",
   "metadata": {},
   "source": [
    "7.What is polymorphism in OOPS?\n",
    "Ans-Poly means many and morphism means state/forms. Polymorphism is the process where object take different form depending on the data/methods used."
   ]
  },
  {
   "cell_type": "markdown",
   "id": "4b82910a",
   "metadata": {},
   "source": [
    "8.How is Encapsulation acheived in python?\n",
    "Ans-Encapsulation can be acheived in python by making the data  private, public or protected. Data can be made private by putting double undeerscore in the object and it can be prrotected by putting single underscore in the object."
   ]
  },
  {
   "cell_type": "markdown",
   "id": "bb46784d",
   "metadata": {},
   "source": [
    "9.What is a contructor in python?\n",
    "Ans-Contructor refers to constructing class by initiialisation of variable/ data.\n",
    "For example, class animal:\n",
    "                def __init_(self):\n",
    "                  self.name = name"
   ]
  },
  {
   "cell_type": "markdown",
   "id": "9b74c16a",
   "metadata": {},
   "source": [
    "10.What are class and static method in python?\n",
    "Ans-Class method is a method that is bound to class and access/modify attributes of class across all the instance/object, It is an alternative of __init__ method and uses cls as parameter."
   ]
  },
  {
   "cell_type": "markdown",
   "id": "076c928a",
   "metadata": {},
   "source": [
    "11.What is method overloading?\n",
    "Ans-Method overloading is where a single class takes different forms, last method overloads all the other methods in the same class."
   ]
  },
  {
   "cell_type": "markdown",
   "id": "5369a69f",
   "metadata": {},
   "source": [
    "12.What is method overriding in OOP?\n",
    "Ans-Overriding is a method where a child class over rides the base class and executed before the base class."
   ]
  },
  {
   "cell_type": "markdown",
   "id": "48df6cab",
   "metadata": {},
   "source": [
    "13.What is a property decorator in python?\n",
    "Ans-When we encapsulate an object by making it private then we can use property decorator to access the private variable. By using  @property\n",
    "                    access_private data"
   ]
  },
  {
   "cell_type": "markdown",
   "id": "b3c1d156",
   "metadata": {},
   "source": [
    "14.Why is polymorphism important in python?\n",
    "Ans-Polymorphism is important to see what type of form an object can take based on the methods/data used."
   ]
  },
  {
   "cell_type": "markdown",
   "id": "f812011b",
   "metadata": {},
   "source": [
    "15.What is an abstract class in pyhton?\n",
    "Ans-Abtract class is use to acheive abstraction which is 'import abc' which again is a bundle of functions in a module"
   ]
  },
  {
   "cell_type": "markdown",
   "id": "e8e302f3",
   "metadata": {},
   "source": [
    "16.What are the advantages of OOP?\n",
    "Ans-Advntages of OOPS can be:\n",
    "i.OOPS provides easy access of different fuctions.\n",
    "ii.It can save time.\n"
   ]
  },
  {
   "cell_type": "markdown",
   "id": "6b745834",
   "metadata": {},
   "source": [
    "17.What is the difference between the class variable and instance variable?\n",
    "Ans-Class variable belongs to the class itself,declared outside constructor\n",
    "whereas, Instance variable belongs to specific object(instance) of a class, which is declared inside the variable."
   ]
  },
  {
   "cell_type": "markdown",
   "id": "3a3fa4d8",
   "metadata": {},
   "source": [
    "18.What is multiple inheritance in python?\n",
    "Ans-Multiple inheritance refers to a situation where a single child inherit from a multiple parents."
   ]
  },
  {
   "cell_type": "markdown",
   "id": "cbbd9b00",
   "metadata": {},
   "source": [
    "19.Explain the purpose of \"__str__\" and \"__repr__\" methods in python?\n",
    "Ans-__repr__ is a dunder method which is a representation of class, it returns unambiguous string representation of the object as it is that can be used recreate the object.\n",
    "__str__ is another dunder method which is a string representation of an object.\n"
   ]
  },
  {
   "cell_type": "markdown",
   "id": "7f5e9bf7",
   "metadata": {},
   "source": [
    "20.What is the significance of \"super()\" function in python?\n",
    "Ans-The significance of \"super()\" function in python is that it is use to use a variable of base class."
   ]
  },
  {
   "cell_type": "markdown",
   "id": "b959fadf",
   "metadata": {},
   "source": [
    "21.What is the significance of\"__del__\" method in python?\n",
    "Ans-__del__ is use to delete any variable."
   ]
  },
  {
   "cell_type": "markdown",
   "id": "be48d223",
   "metadata": {},
   "source": [
    "22.What is the difference between @staticmethod  and @classmethod?\n",
    "Ans-i.Static method\n",
    "ii.Doesnot modify class or instance state, doesnt access instance or class state\n",
    "iii.Doesnt depend on class/instance\n",
    "iv.It doesn't take either self or cls\n",
    "Class methods \n",
    "i.Bound to the class, access/modify methods and attributes associated to class accross all the instances\n",
    "ii.Instead of self, cls as first parameter."
   ]
  },
  {
   "cell_type": "markdown",
   "id": "309b51b2",
   "metadata": {},
   "source": [
    "23.How does polymorphism work in pyhton with inheritance?\n",
    "Ans-In inheritance polymorphism worsk in two ways:\n",
    "i.Overriding>>where child class is powerful and executed first i.e., override parents class.\n",
    "ii.Overloading>>where last method contains all the previous ones in the same class."
   ]
  },
  {
   "cell_type": "markdown",
   "id": "dfa18abc",
   "metadata": {},
   "source": [
    "24.What is method chaining in python OOP?\n",
    "Ans-DON'T KNOW THE ANSWER."
   ]
  },
  {
   "cell_type": "markdown",
   "id": "89794770",
   "metadata": {},
   "source": [
    "25.What is the purpose of \"__call__\" method in python?\n",
    "Ans-When an object of a class is called as function then '__call__' method is invoked."
   ]
  },
  {
   "cell_type": "markdown",
   "id": "b8ebcbfe",
   "metadata": {},
   "source": [
    "                                             PRACTICAL SOLUTION"
   ]
  },
  {
   "cell_type": "code",
   "execution_count": null,
   "id": "da78438f",
   "metadata": {},
   "outputs": [],
   "source": [
    "#1. Create a parent class Animal with a method speak() that prints a generic message. Create a child class Dog\n",
    "#that overrides the speak() method to print \"Bark!\".\n",
    "\n",
    "\n",
    "class Animal:\n",
    "    def speak(self):\n",
    "        print(\"Animals make certain sound\")\n",
    "class Dog(Animal):\n",
    "    def speak(self):\n",
    "        print(\"Bark!\")\n",
    "\n",
    "    "
   ]
  },
  {
   "cell_type": "code",
   "execution_count": 3,
   "id": "b3cf47e5",
   "metadata": {},
   "outputs": [
    {
     "name": "stdout",
     "output_type": "stream",
     "text": [
      "Bark!\n"
     ]
    }
   ],
   "source": [
    "obj1 = Dog()\n",
    "obj1.speak()"
   ]
  },
  {
   "cell_type": "code",
   "execution_count": 9,
   "id": "52a17a0e",
   "metadata": {},
   "outputs": [],
   "source": [
    "import abc"
   ]
  },
  {
   "cell_type": "code",
   "execution_count": 12,
   "id": "b9cb398d",
   "metadata": {},
   "outputs": [],
   "source": [
    "#2. Write a program to create an abstract class Shape with a method area(). Derive classes Circle and Rectangle\n",
    "#from it and implement the area() method in both.\n",
    "class Shape:\n",
    "   \n",
    "    @abc.abstractmethod\n",
    "    def area(self):\n",
    "        pass\n",
    "    \n"
   ]
  },
  {
   "cell_type": "code",
   "execution_count": 16,
   "id": "192c247a",
   "metadata": {},
   "outputs": [],
   "source": [
    "class Circle(Shape):\n",
    "        def area(self):\n",
    "            return \"pie r**2\"\n",
    "class Rectangle(Shape):\n",
    "        def area(self):\n",
    "            return \"length*breadth\""
   ]
  },
  {
   "cell_type": "code",
   "execution_count": 14,
   "id": "4477a00c",
   "metadata": {},
   "outputs": [
    {
     "data": {
      "text/plain": [
       "'pie r**2'"
      ]
     },
     "execution_count": 14,
     "metadata": {},
     "output_type": "execute_result"
    }
   ],
   "source": [
    "c1 = Circle()\n",
    "c1.area()"
   ]
  },
  {
   "cell_type": "code",
   "execution_count": 17,
   "id": "5101cd2b",
   "metadata": {},
   "outputs": [
    {
     "data": {
      "text/plain": [
       "'length*breadth'"
      ]
     },
     "execution_count": 17,
     "metadata": {},
     "output_type": "execute_result"
    }
   ],
   "source": [
    "r1 = Rectangle()\n",
    "r1.area()"
   ]
  },
  {
   "cell_type": "code",
   "execution_count": null,
   "id": "0a25a01e",
   "metadata": {},
   "outputs": [],
   "source": [
    "#3. Implement a multi-level inheritance scenario where a class Vehicle has an attribute type. Derive a class Car\n",
    "#and further derive a class ElectricCar that adds a battery attribute.\n",
    "class Vehicle:\n",
    "    def accelerate(self):\n",
    "        print(\"Vehicle is accelerating\")\n",
    "class Car(Vehicle):\n",
    "    def accelerate(self):\n",
    "        print(\"Car is accelerating\")\n",
    "class ElectricCar(Car):\n",
    "    def battery(self):\n",
    "        print(\"Electric car battery is charging\")"
   ]
  },
  {
   "cell_type": "code",
   "execution_count": 19,
   "id": "c914c9d6",
   "metadata": {},
   "outputs": [
    {
     "name": "stdout",
     "output_type": "stream",
     "text": [
      "Car is accelerating\n"
     ]
    }
   ],
   "source": [
    "c1 = ElectricCar()\n",
    "c1.accelerate()"
   ]
  },
  {
   "cell_type": "code",
   "execution_count": 20,
   "id": "a2b70257",
   "metadata": {},
   "outputs": [
    {
     "name": "stdout",
     "output_type": "stream",
     "text": [
      "Electric car battery is charging\n"
     ]
    }
   ],
   "source": [
    "c1.battery()"
   ]
  },
  {
   "cell_type": "code",
   "execution_count": 21,
   "id": "eb483754",
   "metadata": {},
   "outputs": [
    {
     "name": "stdout",
     "output_type": "stream",
     "text": [
      "Car is accelerating\n"
     ]
    }
   ],
   "source": [
    "c2 = Car()\n",
    "c2.accelerate()"
   ]
  },
  {
   "cell_type": "code",
   "execution_count": null,
   "id": "f3bbf152",
   "metadata": {},
   "outputs": [],
   "source": [
    "#4. Demonstrate polymorphism by creating a base class Bird with a method fly(). Create two derived classes\n",
    "#Sparrow and Penguin that override the fly() method.\n",
    "class Bird:\n",
    "    def fly(self):\n",
    "        print(\"Bird is flying\")\n",
    "class Sparrow(Bird):\n",
    "    def fly (self):\n",
    "        print(\"Sparrow is flying\")\n",
    "class Penguin(Bird):\n",
    "    def not_fly(self):\n",
    "        print(\"Penguin cannot fly\")"
   ]
  },
  {
   "cell_type": "code",
   "execution_count": 23,
   "id": "c6f04fd2",
   "metadata": {},
   "outputs": [
    {
     "name": "stdout",
     "output_type": "stream",
     "text": [
      "Sparrow is flying\n"
     ]
    }
   ],
   "source": [
    "brd = Sparrow()\n",
    "brd.fly()"
   ]
  },
  {
   "cell_type": "code",
   "execution_count": null,
   "id": "66ff4717",
   "metadata": {},
   "outputs": [],
   "source": [
    "#5. Write a program to demonstrate encapsulation by creating a class BankAccount with private attributes\n",
    "#balance and methods to deposit, withdraw, and check balance.\n",
    "\n",
    "\n",
    "class BankAccount:\n",
    "    def __init__(self, balance):\n",
    "        self.__balance = balance\n",
    "    def deposit(self, amount):\n",
    "        self.__balance = self.__balance+amount\n",
    "\n",
    "    def withdraw(self, amount):\n",
    "        self.__balance = self.__balance - amount  \n",
    "        if self.__balance >=amount:\n",
    "            return True\n",
    "        else:\n",
    "            return False\n",
    "\n",
    "    def get_balance(self):\n",
    "        return self.__balance\n",
    "\n",
    "\n"
   ]
  },
  {
   "cell_type": "code",
   "execution_count": 3,
   "id": "45e505fb",
   "metadata": {},
   "outputs": [
    {
     "data": {
      "text/plain": [
       "1000"
      ]
     },
     "execution_count": 3,
     "metadata": {},
     "output_type": "execute_result"
    }
   ],
   "source": [
    "acc1 = BankAccount(1000)\n",
    "acc1.get_balance()"
   ]
  },
  {
   "cell_type": "code",
   "execution_count": 4,
   "id": "76718f54",
   "metadata": {},
   "outputs": [
    {
     "data": {
      "text/plain": [
       "1900"
      ]
     },
     "execution_count": 4,
     "metadata": {},
     "output_type": "execute_result"
    }
   ],
   "source": [
    "acc1.deposit(900)\n",
    "acc1.get_balance()"
   ]
  },
  {
   "cell_type": "code",
   "execution_count": 5,
   "id": "c2ba26da",
   "metadata": {},
   "outputs": [
    {
     "data": {
      "text/plain": [
       "1700"
      ]
     },
     "execution_count": 5,
     "metadata": {},
     "output_type": "execute_result"
    }
   ],
   "source": [
    "acc1.withdraw(200)\n",
    "acc1.get_balance()"
   ]
  },
  {
   "cell_type": "code",
   "execution_count": 6,
   "id": "ced84c13",
   "metadata": {},
   "outputs": [],
   "source": [
    "#6. Demonstrate runtime polymorphism using a method play() in a base class Instrument. Derive classes Guitar\n",
    "#and Piano that implement their own version of play()\n",
    "class Instrument:\n",
    "    def play(self):\n",
    "        print(\"Instrument is playing\")\n",
    "class guitar(Instrument):\n",
    "    def play(self):\n",
    "        print(\"Guitar is playing\")\n",
    "class Piano(Instrument):\n",
    "    def play(self):\n",
    "        print(\"Piano is playing\")"
   ]
  },
  {
   "cell_type": "code",
   "execution_count": 7,
   "id": "6346e6f3",
   "metadata": {},
   "outputs": [
    {
     "name": "stdout",
     "output_type": "stream",
     "text": [
      "Guitar is playing\n"
     ]
    }
   ],
   "source": [
    "inst = guitar()\n",
    "inst.play()\n"
   ]
  },
  {
   "cell_type": "code",
   "execution_count": 8,
   "id": "2ddae43f",
   "metadata": {},
   "outputs": [
    {
     "name": "stdout",
     "output_type": "stream",
     "text": [
      "Instrument is playing\n"
     ]
    }
   ],
   "source": [
    "inst1 = Instrument()\n",
    "inst1.play()"
   ]
  },
  {
   "cell_type": "code",
   "execution_count": 2,
   "id": "9da08ea3",
   "metadata": {},
   "outputs": [
    {
     "data": {
      "text/plain": [
       "95"
      ]
     },
     "execution_count": 2,
     "metadata": {},
     "output_type": "execute_result"
    }
   ],
   "source": [
    "#7. Create a class MathOperations with a class method add_numbers() to add two numbers and a static\n",
    "#method subtract_numbers() to subtract two numbers.\n",
    "\n",
    "class MathOperations:\n",
    "    @classmethod\n",
    "    def add_numbers(self,a,b):\n",
    "        return a+b\n",
    "\n",
    "a =  MathOperations()\n",
    "a.add_numbers(40, 55)\n",
    "\n",
    "\n",
    "\n"
   ]
  },
  {
   "cell_type": "code",
   "execution_count": 5,
   "id": "ef586f97",
   "metadata": {},
   "outputs": [
    {
     "data": {
      "text/plain": [
       "45"
      ]
     },
     "execution_count": 5,
     "metadata": {},
     "output_type": "execute_result"
    }
   ],
   "source": [
    "class MathOperations:\n",
    "  @staticmethod\n",
    "  def subtract_numbers(a,b):\n",
    "        return a-b  \n",
    "\n",
    "\n",
    "MathOperations.subtract_numbers(90,45)"
   ]
  },
  {
   "cell_type": "code",
   "execution_count": null,
   "id": "4c27858e",
   "metadata": {},
   "outputs": [],
   "source": [
    "#8. Implement a class Person with a class method to count the total number of persons created.\n",
    "class Person:\n",
    "    total_persons = 0\n",
    "    def __init__(self, name):\n",
    "        self.name = name\n",
    "        Person.total_persons = Person.total_persons + 1\n",
    "    @classmethod\n",
    "    def get_total_persons(cls):\n",
    "        return  cls.total_persons\n",
    "\n",
    "\n"
   ]
  },
  {
   "cell_type": "code",
   "execution_count": 47,
   "id": "a2032430",
   "metadata": {},
   "outputs": [],
   "source": [
    "stud1 = Person(\"Nastayeen\")\n",
    "stud2 = Person(\"Krish\")\n",
    "stud3 = Person(\"Arshi\")"
   ]
  },
  {
   "cell_type": "code",
   "execution_count": 48,
   "id": "db4b6bda",
   "metadata": {},
   "outputs": [
    {
     "data": {
      "text/plain": [
       "3"
      ]
     },
     "execution_count": 48,
     "metadata": {},
     "output_type": "execute_result"
    }
   ],
   "source": [
    "Person. get_total_persons()"
   ]
  },
  {
   "cell_type": "code",
   "execution_count": null,
   "id": "ec42766d",
   "metadata": {},
   "outputs": [],
   "source": [
    "#9. Write a class Fraction with attributes numerator and denominator. Override the str method to display the\n",
    "#fraction as \"numerator/denominator\".\n",
    "class Fraction:\n",
    "    def __init__(self, numerator,denominator):\n",
    "        self.numerator = numerator\n",
    "        self.denominator = denominator\n",
    "    def __str__(self):\n",
    "        return \"numerator/denominator\"\n",
    " "
   ]
  },
  {
   "cell_type": "code",
   "execution_count": null,
   "id": "f7c20bf3",
   "metadata": {},
   "outputs": [
    {
     "ename": "TypeError",
     "evalue": "__str__ returned non-string (type float)",
     "output_type": "error",
     "traceback": [
      "\u001b[31m---------------------------------------------------------------------------\u001b[39m",
      "\u001b[31mTypeError\u001b[39m                                 Traceback (most recent call last)",
      "\u001b[36mCell\u001b[39m\u001b[36m \u001b[39m\u001b[32mIn[10]\u001b[39m\u001b[32m, line 1\u001b[39m\n\u001b[32m----> \u001b[39m\u001b[32m1\u001b[39m \u001b[38;5;28;43mprint\u001b[39;49m\u001b[43m(\u001b[49m\u001b[43mFraction\u001b[49m\u001b[43m(\u001b[49m\u001b[32;43m3\u001b[39;49m\u001b[43m \u001b[49m\u001b[43m,\u001b[49m\u001b[32;43m5\u001b[39;49m\u001b[43m)\u001b[49m\u001b[43m)\u001b[49m\u001b[38;5;66;03m#unable to understand how to do it.\u001b[39;00m\n",
      "\u001b[31mTypeError\u001b[39m: __str__ returned non-string (type float)"
     ]
    }
   ],
   "source": [
    "print(Fraction(3, 5))#unable to understand how to do it."
   ]
  },
  {
   "cell_type": "code",
   "execution_count": 14,
   "id": "a61dcb26",
   "metadata": {},
   "outputs": [],
   "source": [
    "#10. Demonstrate operator overloading by creating a class Vector and overriding the add method to add two\n",
    "#vectors.\n",
    "class Vector:\n",
    "    def __init__(self, x, y):\n",
    "        self.x = x\n",
    "        self.y = y\n",
    "    def __add__(self, other):\n",
    "        return Vector(self.x + other.x, self.y + other.y )\n",
    "\n"
   ]
  },
  {
   "cell_type": "code",
   "execution_count": 18,
   "id": "d4fea032",
   "metadata": {},
   "outputs": [
    {
     "name": "stdout",
     "output_type": "stream",
     "text": [
      "6 6\n"
     ]
    }
   ],
   "source": [
    "v1 = Vector(1, 2)\n",
    "v2 = Vector(5, 4)\n",
    "v3 = v1 + v2\n",
    "print(v3.x, v3.y)"
   ]
  },
  {
   "cell_type": "code",
   "execution_count": 45,
   "id": "ba81dd0c",
   "metadata": {},
   "outputs": [],
   "source": [
    "#11. Create a class Person with attributes name and age. Add a method greet() that prints \"Hello, my name is\n",
    "#{name} and I am {age} years old.\"\n",
    "class Person:\n",
    "    def __init__(self, name, age):\n",
    "        self.name = name\n",
    "        self.age = age\n",
    "    def greet(self):\n",
    "        print(f\"Hello, My name is {self.name}, and my age is {self.age} yars old\")\n",
    "\n"
   ]
  },
  {
   "cell_type": "code",
   "execution_count": 46,
   "id": "b76b316d",
   "metadata": {},
   "outputs": [
    {
     "name": "stdout",
     "output_type": "stream",
     "text": [
      "Hello, My name is Nastayeen, and my age is 20 yars old\n"
     ]
    }
   ],
   "source": [
    "p1 = Person(\"Nastayeen\", 20)\n",
    "p1.greet()"
   ]
  },
  {
   "cell_type": "code",
   "execution_count": null,
   "id": "8286dfe6",
   "metadata": {},
   "outputs": [
    {
     "data": {
      "text/plain": [
       "54.0"
      ]
     },
     "execution_count": 54,
     "metadata": {},
     "output_type": "execute_result"
    }
   ],
   "source": [
    "#12. Implement a class Student with attributes name and grades. Create a method average_grade() to compute\n",
    "#the average of the grades.\n",
    "class Student:\n",
    "    def __init__ (self, name, grade):\n",
    "        self.name = name\n",
    "        self. grade = grade\n",
    "    def average_grade(self):\n",
    "        return sum(self.grade)/ len(self.grade)\n",
    "c1 = Student(\"Nastayeen\", [30, 50, 60, 90, 40])\n",
    "c1.average_grade()\n",
    "\n",
    "\n"
   ]
  },
  {
   "cell_type": "code",
   "execution_count": null,
   "id": "92d1f725",
   "metadata": {},
   "outputs": [],
   "source": [
    "#13. Create a class Rectangle with methods set_dimensions() to set the dimensions and area() to calculate the\n",
    "#area.\n",
    "class Rectangle:\n",
    "    def __init__(self, length, width):\n",
    "        self.__length = length\n",
    "        self.__width = width\n",
    "    @property\n",
    "    def length(self):\n",
    "        return self.__length\n",
    "    @length.setter\n",
    "    def length(self, value):\n",
    "        if value <= 0: \n",
    "         raise ValueError(\"length must be positive\")\n",
    "        self.__length =value\n",
    "    @property\n",
    "    def width(self):\n",
    "        return self.__width\n",
    "    @width.setter\n",
    "    def width(self, value):\n",
    "        if value <= 0: \n",
    "         raise ValueError(\"Width must be positive\")\n",
    "        self.__width =value\n",
    "\n",
    "    def area(self):\n",
    "        return self.__length * self.__width\n",
    "\n",
    "\n"
   ]
  },
  {
   "cell_type": "code",
   "execution_count": null,
   "id": "1d372141",
   "metadata": {},
   "outputs": [
    {
     "data": {
      "text/plain": [
       "10"
      ]
     },
     "execution_count": 45,
     "metadata": {},
     "output_type": "execute_result"
    }
   ],
   "source": [
    "r = Rectangle( 10, 12)\n",
    "r.length"
   ]
  },
  {
   "cell_type": "code",
   "execution_count": null,
   "id": "807b8a7e",
   "metadata": {},
   "outputs": [
    {
     "data": {
      "text/plain": [
       "15"
      ]
     },
     "execution_count": 41,
     "metadata": {},
     "output_type": "execute_result"
    }
   ],
   "source": [
    "r.length = 15\n",
    "r.length\n"
   ]
  },
  {
   "cell_type": "code",
   "execution_count": 42,
   "id": "e30026cb",
   "metadata": {},
   "outputs": [
    {
     "data": {
      "text/plain": [
       "12"
      ]
     },
     "execution_count": 42,
     "metadata": {},
     "output_type": "execute_result"
    }
   ],
   "source": [
    "r.width "
   ]
  },
  {
   "cell_type": "code",
   "execution_count": 43,
   "id": "f94aa6c8",
   "metadata": {},
   "outputs": [
    {
     "data": {
      "text/plain": [
       "11"
      ]
     },
     "execution_count": 43,
     "metadata": {},
     "output_type": "execute_result"
    }
   ],
   "source": [
    "r.width = 11\n",
    "r.width"
   ]
  },
  {
   "cell_type": "code",
   "execution_count": 44,
   "id": "d6068b59",
   "metadata": {},
   "outputs": [
    {
     "data": {
      "text/plain": [
       "165"
      ]
     },
     "execution_count": 44,
     "metadata": {},
     "output_type": "execute_result"
    }
   ],
   "source": [
    "r.area()"
   ]
  },
  {
   "cell_type": "code",
   "execution_count": 46,
   "id": "2d8b76ea",
   "metadata": {},
   "outputs": [],
   "source": [
    "#14. Create a class Employee with a method calculate_salary() that computes the salary based on hours worked\n",
    "#and hourly rate. Create a derived class Manager that adds a bonus to the salary.\n",
    "class Employee:\n",
    "    def __init__(self, hour, rate):\n",
    "        self.hour = hour\n",
    "        self.rate = rate\n",
    "    def calculate_salary(self):\n",
    "        return self.hour * self.rate\n",
    "\n"
   ]
  },
  {
   "cell_type": "code",
   "execution_count": 50,
   "id": "a0cf4325",
   "metadata": {},
   "outputs": [
    {
     "data": {
      "text/plain": [
       "45000"
      ]
     },
     "execution_count": 50,
     "metadata": {},
     "output_type": "execute_result"
    }
   ],
   "source": [
    "e = Employee(9, 5000)\n",
    "e.calculate_salary()"
   ]
  },
  {
   "cell_type": "code",
   "execution_count": 7,
   "id": "c71f2517",
   "metadata": {},
   "outputs": [],
   "source": [
    "#15. Create a class Product with attributes name, price, and quantity. Implement a method total_price() that\n",
    "#calculates the total price of the product.\n",
    "class Product:\n",
    "    def __init__(self, name, price, quantity):\n",
    "        self.name = name\n",
    "        self.price = price\n",
    "        self.quantity = quantity\n",
    "    def total_price(self):\n",
    "     print(f\"The total price of {self.name} is {self.price*self.quantity}\")\n",
    "\n",
    "\n"
   ]
  },
  {
   "cell_type": "code",
   "execution_count": 8,
   "id": "79713e3e",
   "metadata": {},
   "outputs": [
    {
     "name": "stdout",
     "output_type": "stream",
     "text": [
      "The total price of rice is 350\n"
     ]
    }
   ],
   "source": [
    "p = Product( \"rice\", 70, 5)\n",
    "p.total_price()"
   ]
  },
  {
   "cell_type": "code",
   "execution_count": null,
   "id": "4c479fbf",
   "metadata": {},
   "outputs": [],
   "source": [
    "import abc\n",
    "#16. Create a class Animal with an abstract method sound(). Create two derived classes Cow and Sheep that\n",
    "#implement the sound() method.\n",
    "class Animal:\n",
    "     @abc.abstractmethod\n",
    "     def sound(self):\n",
    "       pass\n",
    "class cow(Animal):  \n",
    "   def sound(self): \n",
    "     return\"Cows says moo\"\n",
    "class sheep(Animal):\n",
    "    def sound(self):\n",
    "      return\"sheep says baa\"\n",
    "\n"
   ]
  },
  {
   "cell_type": "code",
   "execution_count": 13,
   "id": "b2852e27",
   "metadata": {},
   "outputs": [],
   "source": [
    "c = cow()\n",
    "s = sheep()"
   ]
  },
  {
   "cell_type": "code",
   "execution_count": 14,
   "id": "a2b6d10e",
   "metadata": {},
   "outputs": [
    {
     "data": {
      "text/plain": [
       "'Cows says moo'"
      ]
     },
     "execution_count": 14,
     "metadata": {},
     "output_type": "execute_result"
    }
   ],
   "source": [
    "c.sound()"
   ]
  },
  {
   "cell_type": "code",
   "execution_count": 15,
   "id": "84d2a6e3",
   "metadata": {},
   "outputs": [
    {
     "data": {
      "text/plain": [
       "'sheep says baa'"
      ]
     },
     "execution_count": 15,
     "metadata": {},
     "output_type": "execute_result"
    }
   ],
   "source": [
    "s.sound()"
   ]
  },
  {
   "cell_type": "code",
   "execution_count": 25,
   "id": "437cfceb",
   "metadata": {},
   "outputs": [],
   "source": [
    "#17. Create a class Book with attributes title, author, and year_published. Add a method get_book_info() that\n",
    "#returns a formatted string with the book's details.\n",
    "class Book:\n",
    "    def __init__(self, title, author, year_published):\n",
    "     self.title = title\n",
    "     self.author = author\n",
    "     self.year_published = year_published\n",
    "    def get_book_info(self):\n",
    "     return (f\"The book {self.title}, written by {self.author}, published in the year {self.year_published}\")\n",
    "\n",
    "\n"
   ]
  },
  {
   "cell_type": "code",
   "execution_count": 27,
   "id": "e6425378",
   "metadata": {},
   "outputs": [
    {
     "data": {
      "text/plain": [
       "'The book It ends with us, written by Coolen Hover, published in the year 2016'"
      ]
     },
     "execution_count": 27,
     "metadata": {},
     "output_type": "execute_result"
    }
   ],
   "source": [
    "b = Book(\"It ends with us\", \"Coolen Hover\",  2016)\n",
    "b.get_book_info()"
   ]
  },
  {
   "cell_type": "code",
   "execution_count": 3,
   "id": "ece1cb89",
   "metadata": {},
   "outputs": [],
   "source": [
    "class House:\n",
    "    def __init__(self):\n",
    "        self.house_address = \"137 KC SEN STREET\"\n",
    "        self.house_price = 10000000\n",
    "class Mansion(House):\n",
    "    def __init__(self, number_of_rooms):\n",
    "        self.number_of_rooms = number_of_rooms\n",
    "        House.__init__(self)\n",
    "    \n",
    "    \n",
    "    def show(self):\n",
    "       print(\"Address\", self.house_address)  \n",
    "       print(\"Price\", self.house_price)\n",
    "       print(\"Rooms\", self.number_of_rooms)\n"
   ]
  },
  {
   "cell_type": "code",
   "execution_count": 4,
   "id": "00fe2005",
   "metadata": {},
   "outputs": [
    {
     "name": "stdout",
     "output_type": "stream",
     "text": [
      "Address 137 KC SEN STREET\n",
      "Price 10000000\n",
      "Rooms 10\n"
     ]
    }
   ],
   "source": [
    "m = Mansion(10)\n",
    "m.show()"
   ]
  }
 ],
 "metadata": {
  "kernelspec": {
   "display_name": "Python 3",
   "language": "python",
   "name": "python3"
  },
  "language_info": {
   "codemirror_mode": {
    "name": "ipython",
    "version": 3
   },
   "file_extension": ".py",
   "mimetype": "text/x-python",
   "name": "python",
   "nbconvert_exporter": "python",
   "pygments_lexer": "ipython3",
   "version": "3.13.5"
  }
 },
 "nbformat": 4,
 "nbformat_minor": 5
}
