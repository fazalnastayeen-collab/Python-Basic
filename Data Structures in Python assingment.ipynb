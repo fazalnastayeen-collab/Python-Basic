{
 "cells": [
  {
   "cell_type": "markdown",
   "id": "e79b42b4",
   "metadata": {},
   "source": [
    "1.Data structure is a place where data can be stored. It is important because it helps in storing data in its correct position."
   ]
  },
  {
   "cell_type": "markdown",
   "id": "da0103ff",
   "metadata": {},
   "source": [
    "2.Muatable data can be changed after creation e.g., list. Immutable data cannot be changed after creation\n",
    "e.g., string, sets."
   ]
  },
  {
   "cell_type": "markdown",
   "id": "1a06771b",
   "metadata": {},
   "source": [
    "3.Lists are mutable and tuple are immutable."
   ]
  },
  {
   "cell_type": "markdown",
   "id": "d4d09138",
   "metadata": {},
   "source": [
    "4.Dictionary are stored in a key, value form where key is a unique features."
   ]
  },
  {
   "cell_type": "markdown",
   "id": "e9b12f1a",
   "metadata": {},
   "source": [
    "6.To store a permanent data sets can be used."
   ]
  },
  {
   "cell_type": "markdown",
   "id": "d05fc206",
   "metadata": {},
   "source": [
    "7.Tuples are immutable which can ensure data integrity."
   ]
  },
  {
   "cell_type": "markdown",
   "id": "ce0d308d",
   "metadata": {},
   "source": [
    "9.Lists are heterogenous data ad can store multiple data type."
   ]
  },
  {
   "cell_type": "markdown",
   "id": "564ca295",
   "metadata": {},
   "source": [
    "10.Strings are immutable because string consist of character which cannot be changed after creation of it."
   ]
  },
  {
   "cell_type": "markdown",
   "id": "c603d6aa",
   "metadata": {},
   "source": [
    "11.Dictionary has a specific key, value feature for specific data. List are a mixture of various data does not have any specification."
   ]
  },
  {
   "cell_type": "markdown",
   "id": "233b2548",
   "metadata": {},
   "source": [
    "12.A scenario where an information of an employee needs to be stored tuple is more preferable than list."
   ]
  },
  {
   "cell_type": "markdown",
   "id": "3e32fdd3",
   "metadata": {},
   "source": [
    "13.In sets dupliicate data cannot be run only unique data rins because set is a combination of unique data."
   ]
  },
  {
   "cell_type": "markdown",
   "id": "7bbb6a0f",
   "metadata": {},
   "source": [
    "14.In list 'in' represents whether a particular data is stored in list or not."
   ]
  },
  {
   "cell_type": "markdown",
   "id": "51746517",
   "metadata": {},
   "source": [
    "19.Dictionary is unordered because data does not run in a way it is written it arrange the data in a alphabtical form."
   ]
  },
  {
   "cell_type": "markdown",
   "id": "3e33c17e",
   "metadata": {},
   "source": [
    "20.In list data runs as it is but in Dictionary data does not run in a way it is written it arrange the data in a alphabtical form."
   ]
  },
  {
   "cell_type": "code",
   "execution_count": null,
   "id": "e8286077",
   "metadata": {},
   "outputs": [
    {
     "data": {
      "text/plain": [
       "'My name is Nastayeen Fazal'"
      ]
     },
     "execution_count": 1,
     "metadata": {},
     "output_type": "execute_result"
    }
   ],
   "source": [
    "\"My name is Nastayeen Fazal\""
   ]
  },
  {
   "cell_type": "code",
   "execution_count": 2,
   "id": "dde6a139",
   "metadata": {},
   "outputs": [
    {
     "data": {
      "text/plain": [
       "11"
      ]
     },
     "execution_count": 2,
     "metadata": {},
     "output_type": "execute_result"
    }
   ],
   "source": [
    "len(\"Hello world\")"
   ]
  },
  {
   "cell_type": "code",
   "execution_count": 9,
   "id": "44153412",
   "metadata": {},
   "outputs": [
    {
     "name": "stdout",
     "output_type": "stream",
     "text": [
      "Pyt\n"
     ]
    }
   ],
   "source": [
    "a = \"Python Programming\"\n",
    "print(a[0:3])"
   ]
  },
  {
   "cell_type": "code",
   "execution_count": 14,
   "id": "e54a3e2d",
   "metadata": {},
   "outputs": [
    {
     "data": {
      "text/plain": [
       "'HELLO'"
      ]
     },
     "execution_count": 14,
     "metadata": {},
     "output_type": "execute_result"
    }
   ],
   "source": [
    "a = \"hello\"\n",
    "a. upper()"
   ]
  },
  {
   "cell_type": "code",
   "execution_count": 17,
   "id": "6d9580b6",
   "metadata": {},
   "outputs": [
    {
     "data": {
      "text/plain": [
       "'I like orange'"
      ]
     },
     "execution_count": 17,
     "metadata": {},
     "output_type": "execute_result"
    }
   ],
   "source": [
    "s = \"I like apple\"\n",
    "s.replace (\"apple\", \"orange\")"
   ]
  },
  {
   "cell_type": "code",
   "execution_count": 49,
   "id": "09dc44c9",
   "metadata": {},
   "outputs": [
    {
     "name": "stdout",
     "output_type": "stream",
     "text": [
      "[1, 2, 3, 4, 5]\n"
     ]
    }
   ],
   "source": [
    "list = [1, 2, 3, 4, 5]\n",
    "print(list)"
   ]
  },
  {
   "cell_type": "code",
   "execution_count": 51,
   "id": "f1f87570",
   "metadata": {},
   "outputs": [
    {
     "data": {
      "text/plain": [
       "[1, 2, 3, 4, 5, 10]"
      ]
     },
     "execution_count": 51,
     "metadata": {},
     "output_type": "execute_result"
    }
   ],
   "source": [
    "list.append(10)\n",
    "list"
   ]
  },
  {
   "cell_type": "code",
   "execution_count": 52,
   "id": "869dad47",
   "metadata": {},
   "outputs": [
    {
     "data": {
      "text/plain": [
       "[1, 2, 4, 5, 10]"
      ]
     },
     "execution_count": 52,
     "metadata": {},
     "output_type": "execute_result"
    }
   ],
   "source": [
    "list.remove(3)\n",
    "list"
   ]
  },
  {
   "cell_type": "code",
   "execution_count": 1,
   "id": "e1eeb907",
   "metadata": {},
   "outputs": [
    {
     "data": {
      "text/plain": [
       "['a', 'b', 'c', 'd']"
      ]
     },
     "execution_count": 1,
     "metadata": {},
     "output_type": "execute_result"
    }
   ],
   "source": [
    "list =['a', 'b', 'c', 'd']\n",
    "list"
   ]
  },
  {
   "cell_type": "code",
   "execution_count": 11,
   "id": "e19dd688",
   "metadata": {},
   "outputs": [
    {
     "data": {
      "text/plain": [
       "[50, 40, 30, 20, 10]"
      ]
     },
     "execution_count": 11,
     "metadata": {},
     "output_type": "execute_result"
    }
   ],
   "source": [
    "list = [10, 20, 30, 40, 50]\n",
    "list.reverse()\n",
    "list"
   ]
  },
  {
   "cell_type": "code",
   "execution_count": 12,
   "id": "732bb3f9",
   "metadata": {},
   "outputs": [
    {
     "data": {
      "text/plain": [
       "(100, 200, 300)"
      ]
     },
     "execution_count": 12,
     "metadata": {},
     "output_type": "execute_result"
    }
   ],
   "source": [
    "t = (100, 200, 300)\n",
    "t"
   ]
  },
  {
   "cell_type": "code",
   "execution_count": 16,
   "id": "f7630f3c",
   "metadata": {},
   "outputs": [
    {
     "data": {
      "text/plain": [
       "'blue'"
      ]
     },
     "execution_count": 16,
     "metadata": {},
     "output_type": "execute_result"
    }
   ],
   "source": [
    "t = ('red', 'green', 'blue', 'yellow')\n",
    "t[-2]"
   ]
  },
  {
   "cell_type": "code",
   "execution_count": 18,
   "id": "b892f893",
   "metadata": {},
   "outputs": [
    {
     "data": {
      "text/plain": [
       "5"
      ]
     },
     "execution_count": 18,
     "metadata": {},
     "output_type": "execute_result"
    }
   ],
   "source": [
    "t =(10, 20, 5, 15)\n",
    "min(t)"
   ]
  },
  {
   "cell_type": "code",
   "execution_count": 19,
   "id": "498c4bb0",
   "metadata": {},
   "outputs": [
    {
     "data": {
      "text/plain": [
       "1"
      ]
     },
     "execution_count": 19,
     "metadata": {},
     "output_type": "execute_result"
    }
   ],
   "source": [
    "t = ('dog', 'cat', 'rabbit')\n",
    "t.index('cat')"
   ]
  },
  {
   "cell_type": "code",
   "execution_count": 20,
   "id": "495291cd",
   "metadata": {},
   "outputs": [
    {
     "data": {
      "text/plain": [
       "False"
      ]
     },
     "execution_count": 20,
     "metadata": {},
     "output_type": "execute_result"
    }
   ],
   "source": [
    "t = (\"apple\", \"banana\", \"cherry\")\n",
    "\"kiwi\" in t"
   ]
  },
  {
   "cell_type": "code",
   "execution_count": 25,
   "id": "f5524305",
   "metadata": {},
   "outputs": [
    {
     "data": {
      "text/plain": [
       "{'a', 'b', 'c'}"
      ]
     },
     "execution_count": 25,
     "metadata": {},
     "output_type": "execute_result"
    }
   ],
   "source": [
    "s = {'a', 'b', 'c'}\n",
    "s\n"
   ]
  },
  {
   "cell_type": "code",
   "execution_count": 27,
   "id": "4bcea695",
   "metadata": {},
   "outputs": [
    {
     "data": {
      "text/plain": [
       "set()"
      ]
     },
     "execution_count": 27,
     "metadata": {},
     "output_type": "execute_result"
    }
   ],
   "source": [
    "set = {1, 2, 3, 4, 5}\n",
    "set.clear()\n",
    "set"
   ]
  },
  {
   "cell_type": "code",
   "execution_count": 28,
   "id": "c8adf553",
   "metadata": {},
   "outputs": [
    {
     "data": {
      "text/plain": [
       "{1, 2, 3}"
      ]
     },
     "execution_count": 28,
     "metadata": {},
     "output_type": "execute_result"
    }
   ],
   "source": [
    "s = {1, 2, 3, 4}\n",
    "s.remove(4)\n",
    "s"
   ]
  },
  {
   "cell_type": "code",
   "execution_count": 31,
   "id": "516585a9",
   "metadata": {},
   "outputs": [
    {
     "data": {
      "text/plain": [
       "{1, 2, 3, 4, 5}"
      ]
     },
     "execution_count": 31,
     "metadata": {},
     "output_type": "execute_result"
    }
   ],
   "source": [
    "s1={1,2,3}\n",
    "s2={3,4,5}\n",
    "s1|s2"
   ]
  },
  {
   "cell_type": "code",
   "execution_count": 32,
   "id": "bda96ecb",
   "metadata": {},
   "outputs": [
    {
     "data": {
      "text/plain": [
       "{2, 3}"
      ]
     },
     "execution_count": 32,
     "metadata": {},
     "output_type": "execute_result"
    }
   ],
   "source": [
    "s1={1,2,3}\n",
    "s2={2,3,4}\n",
    "s1&s2"
   ]
  },
  {
   "cell_type": "code",
   "execution_count": 36,
   "id": "f3aaf8d8",
   "metadata": {},
   "outputs": [
    {
     "data": {
      "text/plain": [
       "{'name': 'Nastayeen', 'age': 24, 'city': 'Kolkata'}"
      ]
     },
     "execution_count": 36,
     "metadata": {},
     "output_type": "execute_result"
    }
   ],
   "source": [
    "d={\"name\":\"Nastayeen\", \"age\":24, \"city\":\"Kolkata\"}\n",
    "d"
   ]
  },
  {
   "cell_type": "code",
   "execution_count": 41,
   "id": "60834437",
   "metadata": {},
   "outputs": [
    {
     "data": {
      "text/plain": [
       "{'name': 'John', 'age': 25, 'country': 'USA'}"
      ]
     },
     "execution_count": 41,
     "metadata": {},
     "output_type": "execute_result"
    }
   ],
   "source": [
    "d= {\"name\":\"John\", \"age\":25}\n",
    "d[\"country\"]= \"USA\"\n",
    "d\n"
   ]
  },
  {
   "cell_type": "code",
   "execution_count": 42,
   "id": "ef247434",
   "metadata": {},
   "outputs": [
    {
     "data": {
      "text/plain": [
       "'Alice'"
      ]
     },
     "execution_count": 42,
     "metadata": {},
     "output_type": "execute_result"
    }
   ],
   "source": [
    "d={\"name\":\"Alice\",\"age\":30}\n",
    "d[\"name\"]"
   ]
  },
  {
   "cell_type": "code",
   "execution_count": 46,
   "id": "3c1109cb",
   "metadata": {},
   "outputs": [
    {
     "data": {
      "text/plain": [
       "{'name': 'Bob', 'city': 'New York'}"
      ]
     },
     "execution_count": 46,
     "metadata": {},
     "output_type": "execute_result"
    }
   ],
   "source": [
    "d= {\"name\":\"Bob\",\"age\":22,\"city\":\"New York\"}\n",
    "del d[\"age\"]\n",
    "d"
   ]
  },
  {
   "cell_type": "code",
   "execution_count": 48,
   "id": "8fb8c469",
   "metadata": {},
   "outputs": [
    {
     "data": {
      "text/plain": [
       "True"
      ]
     },
     "execution_count": 48,
     "metadata": {},
     "output_type": "execute_result"
    }
   ],
   "source": [
    "d={\"name\":\"Alice\",\"city\":\"Paris\"}\n",
    "\"city\" in  d"
   ]
  },
  {
   "cell_type": "code",
   "execution_count": 51,
   "id": "50dd52cc",
   "metadata": {},
   "outputs": [
    {
     "data": {
      "text/plain": [
       "[1, 4, 5, 9, 10, 55, 60, 60, 70, 90, 100, 600]"
      ]
     },
     "execution_count": 51,
     "metadata": {},
     "output_type": "execute_result"
    }
   ],
   "source": [
    "list=[10,55,5,4,100,60,1,9,60,90,70,600]\n",
    "list.sort()\n",
    "list"
   ]
  },
  {
   "cell_type": "code",
   "execution_count": 52,
   "id": "ae3e69d6",
   "metadata": {},
   "outputs": [
    {
     "data": {
      "text/plain": [
       "'potato'"
      ]
     },
     "execution_count": 52,
     "metadata": {},
     "output_type": "execute_result"
    }
   ],
   "source": [
    "list=[\"orange\", \"Neha\",\"blue\",\"potato\",\"lion\",\"eagle\"]\n",
    "list[3]"
   ]
  },
  {
   "cell_type": "code",
   "execution_count": 63,
   "id": "70b63ae9",
   "metadata": {},
   "outputs": [
    {
     "data": {
      "text/plain": [
       "({'brand': 'Ford', 'model': 'Mustang', 'year': 1964},\n",
       " {'brand': 'Maserati', 'model': 'MC20', 'year': 2020})"
      ]
     },
     "execution_count": 63,
     "metadata": {},
     "output_type": "execute_result"
    }
   ],
   "source": [
    "d1={\"brand\": \"Ford\", \"model\": \"Mustang\", \"year\": 1964}\n",
    "d2={\"brand\": \"Maserati\", \"model\":\"MC20\", \"year\":2020}\n",
    "d3=d1.copy(),d2.copy()\n",
    "d3\n",
    "\n",
    "\n"
   ]
  },
  {
   "cell_type": "code",
   "execution_count": 66,
   "id": "9d31e8f6",
   "metadata": {},
   "outputs": [
    {
     "data": {
      "text/plain": [
       "list"
      ]
     },
     "execution_count": 66,
     "metadata": {},
     "output_type": "execute_result"
    }
   ],
   "source": [
    "list=[\"orange\", \"Neha\",\"blue\"]\n",
    "type(list)"
   ]
  }
 ],
 "metadata": {
  "kernelspec": {
   "display_name": "Python 3",
   "language": "python",
   "name": "python3"
  },
  "language_info": {
   "codemirror_mode": {
    "name": "ipython",
    "version": 3
   },
   "file_extension": ".py",
   "mimetype": "text/x-python",
   "name": "python",
   "nbconvert_exporter": "python",
   "pygments_lexer": "ipython3",
   "version": "3.13.5"
  }
 },
 "nbformat": 4,
 "nbformat_minor": 5
}
