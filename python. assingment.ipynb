{
 "cells": [
  {
   "cell_type": "markdown",
   "id": "bef90e59",
   "metadata": {},
   "source": [
    "1.Python is a programming language. It is popularly used because it is simplier than other coding languages and very much similar to English.\n",
    "2.An interpreter interpret english language which we put in python to programming language.\n",
    "3.Pre-defined keywords in pythons are special keywords use for specific purpose.\n",
    "4.No, keywords cannot be use as variables. Variables start with character, or underscore, alphabet.\n",
    "5.Mutability is a process in which an object or value can change after creating it.\n",
    "6.List is mutable because its object can be change. while in tuples it cannot be change after creating.\n",
    "7.'==' is used for comparison, while 'is' is used for assinging.\n",
    "8.Logical operator is 'true or true', 'true & false', 'true - false', 'ture * false' etc.\n",
    "9.Type casting is a process of conversion of one type of variable to another.\n",
    "10.In implicit type casting python understand the type on its own, while in explicit type casting we have to write the variable name.\n",
    "11.Conditonal statement works by fulfilling certain conditions of a statement.\n",
    "12.elif is a combination of 'else' and 'if',If the 'if' condition is not true then the code move to elif block.\n",
    "13.'for' loop iterate the sequence of element, while 'while' loop runs repeatedly until a certain condition is met."
   ]
  },
  {
   "cell_type": "markdown",
   "id": "8babab01",
   "metadata": {},
   "source": [
    "2.An interpreter interpret english language which we put in python to programming language."
   ]
  },
  {
   "cell_type": "code",
   "execution_count": 1,
   "id": "fa286862",
   "metadata": {},
   "outputs": [
    {
     "name": "stdout",
     "output_type": "stream",
     "text": [
      "hello world\n"
     ]
    }
   ],
   "source": [
    "print(\"hello world\")"
   ]
  },
  {
   "cell_type": "code",
   "execution_count": 3,
   "id": "773a7445",
   "metadata": {},
   "outputs": [
    {
     "name": "stdout",
     "output_type": "stream",
     "text": [
      "My name is Nastayeen\n",
      "I am 24 years old\n"
     ]
    }
   ],
   "source": [
    "print(\"My name is Nastayeen\")\n",
    "print(\"I am 24 years old\")"
   ]
  },
  {
   "cell_type": "code",
   "execution_count": 5,
   "id": "211dcaa3",
   "metadata": {},
   "outputs": [
    {
     "name": "stdout",
     "output_type": "stream",
     "text": [
      "\n",
      "Here is a list of the Python keywords.  Enter any keyword to get more help.\n",
      "\n",
      "False               class               from                or\n",
      "None                continue            global              pass\n",
      "True                def                 if                  raise\n",
      "and                 del                 import              return\n",
      "as                  elif                in                  try\n",
      "assert              else                is                  while\n",
      "async               except              lambda              with\n",
      "await               finally             nonlocal            yield\n",
      "break               for                 not                 \n",
      "\n"
     ]
    }
   ],
   "source": [
    "help(\"keywords\")"
   ]
  },
  {
   "cell_type": "code",
   "execution_count": 15,
   "id": "7f8df2f1",
   "metadata": {},
   "outputs": [],
   "source": [
    "list_count= [1, 2, 3, 4.5, 3+5j, True, \"Nastayeen\"]"
   ]
  },
  {
   "cell_type": "code",
   "execution_count": 14,
   "id": "7f99e23b",
   "metadata": {},
   "outputs": [
    {
     "data": {
      "text/plain": [
       "2"
      ]
     },
     "execution_count": 14,
     "metadata": {},
     "output_type": "execute_result"
    }
   ],
   "source": [
    "list_count[1]"
   ]
  },
  {
   "cell_type": "code",
   "execution_count": null,
   "id": "4ed96d60",
   "metadata": {},
   "outputs": [
    {
     "data": {
      "text/plain": [
       "'Nastayeen Fazal'"
      ]
     },
     "execution_count": 18,
     "metadata": {},
     "output_type": "execute_result"
    }
   ],
   "source": [
    "#mutable\n",
    "list_count[6]=\"Nastayeen Fazal\""
   ]
  },
  {
   "cell_type": "code",
   "execution_count": 19,
   "id": "9b91acb2",
   "metadata": {},
   "outputs": [
    {
     "data": {
      "text/plain": [
       "[1, 2, 3, 4.5, (3+5j), True, 'Nastayeen Fazal']"
      ]
     },
     "execution_count": 19,
     "metadata": {},
     "output_type": "execute_result"
    }
   ],
   "source": [
    "list_count"
   ]
  },
  {
   "cell_type": "code",
   "execution_count": null,
   "id": "570e075b",
   "metadata": {},
   "outputs": [],
   "source": [
    "a= \"Nastayeen\""
   ]
  },
  {
   "cell_type": "code",
   "execution_count": null,
   "id": "c1510330",
   "metadata": {},
   "outputs": [
    {
     "ename": "NameError",
     "evalue": "name 'T' is not defined",
     "output_type": "error",
     "traceback": [
      "\u001b[31m---------------------------------------------------------------------------\u001b[39m",
      "\u001b[31mNameError\u001b[39m                                 Traceback (most recent call last)",
      "\u001b[36mCell\u001b[39m\u001b[36m \u001b[39m\u001b[32mIn[21]\u001b[39m\u001b[32m, line 1\u001b[39m\n\u001b[32m----> \u001b[39m\u001b[32m1\u001b[39m a[\u001b[32m2\u001b[39m]=\u001b[43mT\u001b[49m\n",
      "\u001b[31mNameError\u001b[39m: name 'T' is not defined"
     ]
    }
   ],
   "source": [
    "#immutable\n",
    "a[2]=T"
   ]
  },
  {
   "cell_type": "code",
   "execution_count": 23,
   "id": "cb61825d",
   "metadata": {},
   "outputs": [
    {
     "data": {
      "text/plain": [
       "1"
      ]
     },
     "execution_count": 23,
     "metadata": {},
     "output_type": "execute_result"
    }
   ],
   "source": [
    "#logical operator\n",
    "True + False"
   ]
  },
  {
   "cell_type": "code",
   "execution_count": 24,
   "id": "f5d75f83",
   "metadata": {},
   "outputs": [
    {
     "data": {
      "text/plain": [
       "1"
      ]
     },
     "execution_count": 24,
     "metadata": {},
     "output_type": "execute_result"
    }
   ],
   "source": [
    "True - False"
   ]
  },
  {
   "cell_type": "code",
   "execution_count": 25,
   "id": "ac65ec63",
   "metadata": {},
   "outputs": [
    {
     "data": {
      "text/plain": [
       "0"
      ]
     },
     "execution_count": 25,
     "metadata": {},
     "output_type": "execute_result"
    }
   ],
   "source": [
    "True * False"
   ]
  },
  {
   "cell_type": "code",
   "execution_count": null,
   "id": "191a57e0",
   "metadata": {},
   "outputs": [],
   "source": [
    "a= \"2\""
   ]
  },
  {
   "cell_type": "code",
   "execution_count": 26,
   "id": "1037f5ef",
   "metadata": {},
   "outputs": [
    {
     "data": {
      "text/plain": [
       "str"
      ]
     },
     "execution_count": 26,
     "metadata": {},
     "output_type": "execute_result"
    }
   ],
   "source": [
    "type(a)"
   ]
  },
  {
   "cell_type": "code",
   "execution_count": 32,
   "id": "2142e9a3",
   "metadata": {},
   "outputs": [
    {
     "data": {
      "text/plain": [
       "2"
      ]
     },
     "execution_count": 32,
     "metadata": {},
     "output_type": "execute_result"
    }
   ],
   "source": [
    "a = \"2\"\n",
    "int(a)"
   ]
  },
  {
   "cell_type": "code",
   "execution_count": 33,
   "id": "0ce7a783",
   "metadata": {},
   "outputs": [
    {
     "data": {
      "text/plain": [
       "2.0"
      ]
     },
     "execution_count": 33,
     "metadata": {},
     "output_type": "execute_result"
    }
   ],
   "source": [
    "float(a)"
   ]
  },
  {
   "cell_type": "code",
   "execution_count": 34,
   "id": "efdf1701",
   "metadata": {},
   "outputs": [
    {
     "data": {
      "text/plain": [
       "True"
      ]
     },
     "execution_count": 34,
     "metadata": {},
     "output_type": "execute_result"
    }
   ],
   "source": [
    "bool(a)"
   ]
  },
  {
   "cell_type": "code",
   "execution_count": 50,
   "id": "ca9fecc1",
   "metadata": {},
   "outputs": [
    {
     "data": {
      "text/plain": [
       "[1, 2, 3, 4.5, (3+5j), True, 'Nastayeen Fazal']"
      ]
     },
     "execution_count": 50,
     "metadata": {},
     "output_type": "execute_result"
    }
   ],
   "source": [
    "list_count"
   ]
  },
  {
   "cell_type": "code",
   "execution_count": 35,
   "metadata": {},
   "outputs": [
    {
     "data": {
      "text/plain": [
       "complex"
      ]
     },
     "execution_count": 35,
     "metadata": {},
     "output_type": "execute_result"
    }
   ],
   "source": [
    "type(list_count[4])"
   ]
  },
  {
   "cell_type": "code",
   "execution_count": 39,
   "metadata": {},
   "outputs": [
    {
     "data": {
      "text/plain": [
       "int"
      ]
     },
     "execution_count": 39,
     "metadata": {},
     "output_type": "execute_result"
    }
   ],
   "source": [
    "type(list_count[0])"
   ]
  },
  {
   "cell_type": "code",
   "execution_count": 55,
   "metadata": {},
   "outputs": [],
   "source": [
    "list_count[0]=1.5"
   ]
  },
  {
   "cell_type": "code",
   "execution_count": 56,
   "id": "d054829f",
   "metadata": {},
   "outputs": [
    {
     "data": {
      "text/plain": [
       "1.5"
      ]
     },
     "execution_count": 56,
     "metadata": {},
     "output_type": "execute_result"
    }
   ],
   "source": [
    "list_count[0]"
   ]
  },
  {
   "cell_type": "code",
   "execution_count": 57,
   "id": "be82d30f",
   "metadata": {},
   "outputs": [
    {
     "data": {
      "text/plain": [
       "float"
      ]
     },
     "execution_count": 57,
     "metadata": {},
     "output_type": "execute_result"
    }
   ],
   "source": [
    "type(list_count[0])"
   ]
  },
  {
   "cell_type": "code",
   "execution_count": 62,
   "id": "aa9ce34c",
   "metadata": {},
   "outputs": [
    {
     "name": "stdout",
     "output_type": "stream",
     "text": [
      "1\n",
      "2\n",
      "3\n",
      "4\n",
      "5\n",
      "6\n",
      "7\n",
      "8\n",
      "9\n",
      "10\n"
     ]
    }
   ],
   "source": [
    "for i in (1,2,3,4,5,6,7,8,9,10):\n",
    "    print (i)"
   ]
  },
  {
   "cell_type": "code",
   "execution_count": null,
   "id": "da6934bf",
   "metadata": {},
   "outputs": [],
   "source": []
  }
 ],
 "metadata": {
  "kernelspec": {
   "display_name": "Python 3",
   "language": "python",
   "name": "python3"
  },
  "language_info": {
   "codemirror_mode": {
    "name": "ipython",
    "version": 3
   },
   "file_extension": ".py",
   "mimetype": "text/x-python",
   "name": "python",
   "nbconvert_exporter": "python",
   "pygments_lexer": "ipython3",
   "version": "3.13.5"
  }
 },
 "nbformat": 4,
 "nbformat_minor": 5
}
